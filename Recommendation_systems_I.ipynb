{
  "nbformat": 4,
  "nbformat_minor": 0,
  "metadata": {
    "colab": {
      "name": "Recommendation systems I.ipynb",
      "provenance": [],
      "authorship_tag": "ABX9TyMhzVcNiqLnPWh9tgUcX9rr",
      "include_colab_link": true
    },
    "kernelspec": {
      "name": "python3",
      "display_name": "Python 3"
    },
    "accelerator": "GPU"
  },
  "cells": [
    {
      "cell_type": "markdown",
      "metadata": {
        "id": "view-in-github",
        "colab_type": "text"
      },
      "source": [
        "<a href=\"https://colab.research.google.com/github/arjun123-iitkgp/mycode/blob/master/Recommendation_systems_I.ipynb\" target=\"_parent\"><img src=\"https://colab.research.google.com/assets/colab-badge.svg\" alt=\"Open In Colab\"/></a>"
      ]
    },
    {
      "cell_type": "code",
      "metadata": {
        "id": "s4EXCIN40V6G"
      },
      "source": [
        "import pandas as pd \r\n",
        "import numpy as np \r\n",
        "df1=pd.read_csv('/content/tmdb_5000_credits.csv')\r\n",
        "df2=pd.read_csv('/content/tmdb_5000_movies.csv')"
      ],
      "execution_count": 18,
      "outputs": []
    },
    {
      "cell_type": "code",
      "metadata": {
        "id": "wXc1pzon2zcx"
      },
      "source": [
        "df1.columns = ['id','tittle','cast','crew']\r\n",
        "df2= df2.merge(df1,on='id')"
      ],
      "execution_count": 19,
      "outputs": []
    },
    {
      "cell_type": "code",
      "metadata": {
        "id": "3bjTPq6q22Wg"
      },
      "source": [
        "C= df2['vote_average'].mean()\r\n",
        "m= df2['vote_count'].quantile(0.9)\r\n",
        "q_movies = df2.copy().loc[df2['vote_count'] >= m]\r\n",
        "def weighted_rating(x, m=m, C=C):\r\n",
        "    v = x['vote_count']\r\n",
        "    R = x['vote_average']\r\n",
        "    # Calculation based on the IMDB formula\r\n",
        "    return (v/(v+m) * R) + (m/(m+v) * C)\r\n",
        "q_movies['score'] = q_movies.apply(weighted_rating, axis=1)"
      ],
      "execution_count": 20,
      "outputs": []
    },
    {
      "cell_type": "code",
      "metadata": {
        "colab": {
          "base_uri": "https://localhost:8080/",
          "height": 348
        },
        "id": "1GIE0BV33dfa",
        "outputId": "53f677f9-3553-4b33-d0ba-ea28c42349df"
      },
      "source": [
        "q_movies = q_movies.sort_values('score', ascending=False)\r\n",
        "\r\n",
        "#Print the top 15 movies\r\n",
        "q_movies[['title', 'vote_count', 'vote_average', 'score']].head(10)"
      ],
      "execution_count": 21,
      "outputs": [
        {
          "output_type": "execute_result",
          "data": {
            "text/html": [
              "<div>\n",
              "<style scoped>\n",
              "    .dataframe tbody tr th:only-of-type {\n",
              "        vertical-align: middle;\n",
              "    }\n",
              "\n",
              "    .dataframe tbody tr th {\n",
              "        vertical-align: top;\n",
              "    }\n",
              "\n",
              "    .dataframe thead th {\n",
              "        text-align: right;\n",
              "    }\n",
              "</style>\n",
              "<table border=\"1\" class=\"dataframe\">\n",
              "  <thead>\n",
              "    <tr style=\"text-align: right;\">\n",
              "      <th></th>\n",
              "      <th>title</th>\n",
              "      <th>vote_count</th>\n",
              "      <th>vote_average</th>\n",
              "      <th>score</th>\n",
              "    </tr>\n",
              "  </thead>\n",
              "  <tbody>\n",
              "    <tr>\n",
              "      <th>1881</th>\n",
              "      <td>The Shawshank Redemption</td>\n",
              "      <td>8205</td>\n",
              "      <td>8.5</td>\n",
              "      <td>8.059258</td>\n",
              "    </tr>\n",
              "    <tr>\n",
              "      <th>662</th>\n",
              "      <td>Fight Club</td>\n",
              "      <td>9413</td>\n",
              "      <td>8.3</td>\n",
              "      <td>7.939256</td>\n",
              "    </tr>\n",
              "    <tr>\n",
              "      <th>65</th>\n",
              "      <td>The Dark Knight</td>\n",
              "      <td>12002</td>\n",
              "      <td>8.2</td>\n",
              "      <td>7.920020</td>\n",
              "    </tr>\n",
              "    <tr>\n",
              "      <th>3232</th>\n",
              "      <td>Pulp Fiction</td>\n",
              "      <td>8428</td>\n",
              "      <td>8.3</td>\n",
              "      <td>7.904645</td>\n",
              "    </tr>\n",
              "    <tr>\n",
              "      <th>96</th>\n",
              "      <td>Inception</td>\n",
              "      <td>13752</td>\n",
              "      <td>8.1</td>\n",
              "      <td>7.863239</td>\n",
              "    </tr>\n",
              "    <tr>\n",
              "      <th>3337</th>\n",
              "      <td>The Godfather</td>\n",
              "      <td>5893</td>\n",
              "      <td>8.4</td>\n",
              "      <td>7.851236</td>\n",
              "    </tr>\n",
              "    <tr>\n",
              "      <th>95</th>\n",
              "      <td>Interstellar</td>\n",
              "      <td>10867</td>\n",
              "      <td>8.1</td>\n",
              "      <td>7.809479</td>\n",
              "    </tr>\n",
              "    <tr>\n",
              "      <th>809</th>\n",
              "      <td>Forrest Gump</td>\n",
              "      <td>7927</td>\n",
              "      <td>8.2</td>\n",
              "      <td>7.803188</td>\n",
              "    </tr>\n",
              "    <tr>\n",
              "      <th>329</th>\n",
              "      <td>The Lord of the Rings: The Return of the King</td>\n",
              "      <td>8064</td>\n",
              "      <td>8.1</td>\n",
              "      <td>7.727243</td>\n",
              "    </tr>\n",
              "    <tr>\n",
              "      <th>1990</th>\n",
              "      <td>The Empire Strikes Back</td>\n",
              "      <td>5879</td>\n",
              "      <td>8.2</td>\n",
              "      <td>7.697884</td>\n",
              "    </tr>\n",
              "  </tbody>\n",
              "</table>\n",
              "</div>"
            ],
            "text/plain": [
              "                                              title  ...     score\n",
              "1881                       The Shawshank Redemption  ...  8.059258\n",
              "662                                      Fight Club  ...  7.939256\n",
              "65                                  The Dark Knight  ...  7.920020\n",
              "3232                                   Pulp Fiction  ...  7.904645\n",
              "96                                        Inception  ...  7.863239\n",
              "3337                                  The Godfather  ...  7.851236\n",
              "95                                     Interstellar  ...  7.809479\n",
              "809                                    Forrest Gump  ...  7.803188\n",
              "329   The Lord of the Rings: The Return of the King  ...  7.727243\n",
              "1990                        The Empire Strikes Back  ...  7.697884\n",
              "\n",
              "[10 rows x 4 columns]"
            ]
          },
          "metadata": {
            "tags": []
          },
          "execution_count": 21
        }
      ]
    },
    {
      "cell_type": "code",
      "metadata": {
        "colab": {
          "base_uri": "https://localhost:8080/",
          "height": 314
        },
        "id": "yyK5G9fe3fWz",
        "outputId": "39520f49-02d3-4f7b-ee5d-407686b1b0ce"
      },
      "source": [
        "pop= df2.sort_values('popularity', ascending=False)\r\n",
        "import matplotlib.pyplot as plt\r\n",
        "plt.figure(figsize=(12,4))\r\n",
        "\r\n",
        "plt.barh(pop['title'].head(6),pop['popularity'].head(6), align='center',\r\n",
        "        color='skyblue')\r\n",
        "plt.gca().invert_yaxis()\r\n",
        "plt.xlabel(\"Popularity\")\r\n",
        "plt.title(\"Popular Movies\")"
      ],
      "execution_count": 22,
      "outputs": [
        {
          "output_type": "execute_result",
          "data": {
            "text/plain": [
              "Text(0.5, 1.0, 'Popular Movies')"
            ]
          },
          "metadata": {
            "tags": []
          },
          "execution_count": 22
        },
        {
          "output_type": "display_data",
          "data": {
            "image/png": "[encoded data removed]",
            "text/plain": [
              "<Figure size 864x288 with 1 Axes>"
            ]
          },
          "metadata": {
            "tags": [],
            "needs_background": "light"
          }
        }
      ]
    },
    {
      "cell_type": "code",
      "metadata": {
        "colab": {
          "base_uri": "https://localhost:8080/"
        },
        "id": "u61wAq-z3qPA",
        "outputId": "e0f9a2e5-9509-41f2-cc8f-5d7dd4fc6cb0"
      },
      "source": [
        "#Import TfIdfVectorizer from scikit-learn\r\n",
        "from sklearn.feature_extraction.text import TfidfVectorizer\r\n",
        "\r\n",
        "#Define a TF-IDF Vectorizer Object. Remove all english stop words such as 'the', 'a'\r\n",
        "tfidf = TfidfVectorizer(stop_words='english')\r\n",
        "\r\n",
        "#Replace NaN with an empty string\r\n",
        "df2['overview'] = df2['overview'].fillna('')\r\n",
        "\r\n",
        "#Construct the required TF-IDF matrix by fitting and transforming the data\r\n",
        "tfidf_matrix = tfidf.fit_transform(df2['overview'])\r\n",
        "\r\n",
        "#Output the shape of tfidf_matrix\r\n",
        "tfidf_matrix.shape"
      ],
      "execution_count": 23,
      "outputs": [
        {
          "output_type": "execute_result",
          "data": {
            "text/plain": [
              "(4803, 20978)"
            ]
          },
          "metadata": {
            "tags": []
          },
          "execution_count": 23
        }
      ]
    },
    {
      "cell_type": "markdown",
      "metadata": {
        "id": "Ttsx-6lv30x1"
      },
      "source": [
        "We will be using the cosine similarity to calculate a numeric quantity that denotes the similarity between two movies. We use the cosine similarity score since it is independent of magnitude and is relatively easy and fast to calculate. Mathematically, it is defined as follows:\r\n",
        "\r\n",
        "Since we have used the TF-IDF vectorizer, calculating the dot product will directly give us the cosine similarity score. Therefore, we will use sklearn's linear_kernel() instead of cosine_similarities() since it is faster.![image.png](data:image/png;base64,iVBORw0KGgoAAAANSUhEUgAAAa0AAAB1CAYAAAD9TL7BAAAgAElEQVR4Ae3dK6w1WdEG4M+PHIOZBI3BkSBGkuAQI1AoNAaDQ6OwKCwOj0EgRk+ChgSJJIGEkJCcP8+G96Nm/b37sk/vS+9dlfTp27rUelfvelfVWt3nw1tLI9AINAKNQCNwEAQ+HETPVrMRaAQagUagEXhr0uqHoBFoBBqBRuAwCDRpHaarWtFGoBFoBBqBJq1+BhqBRqARmEDgT3/609tPf/rTt7/+9a9vf/7zn99+8YtfvP3mN7+ZSNmXbolAk9Yt0e66GoFG4DAI/PjHP3771a9+9fbJJ5+8/fa3v337+9///vbpp5++ffXVV4dpwzMq2qT1jL3abWoEGoF3IfC3v/3t5FUhrh/96Eensv71r3+9feMb33j73e9+966yO/P7EGjSeh9+nbsRaASeGIEPHz58JClhQuf/+Mc/3v79738/casfu2lNWo/dP61dI9AI3AkB3haS+uc//3nSwJzW9773vdMcV4cI79Qpb2+95P1+0HfNjUAj8MgIWHTx7W9/+6Qiz0qY8Oc///lpnovX1XIfBNrTug/uXWsj0Ag8OALmrur8Fe8KaVlV2HI/BJq07od919wINAKNQCOwEYEmrY2AdfJGoBFoBBqB+yHQpHU/7LvmRqAReAAErAY0R3XpZsFGy+0QaNK6HdZdUyPQCDwgAuaqfvjDH755J+tnP/vZ6csXVgqavzq3/eQnPzmltzjDVzP+8pe/vKtliO/SMrw/5sVn5GtzXDf3n0matJ6pN7stjUAjsBkBhPHNb37ztLwdAf3xj3+c3f7whz+cVhAiru9+97unfEjuUkEwvrzxxRdfnEhnSzlWNdL317/+9dc2Kx9trvuah8UjWbq/pfxHTNuk9Yi90jo1Ao3ATRFARN7Jsm1ZHfjll1+eyAZ5XSo8vc8+++zk7W31tnhR8iNQun/rW986eYfI6pe//OXp2Ltln3/++dvvf//7p3gpuknr0iet8zUCjcBTIcBbYvi/853vvG2Zp0I03//+90+ksBUQ9aTeH/zgByevaWsZ0iNPhIWoxnCgZfs+PyX8uYWQL9HjFnmatG6BctfRCDQCh0BAiA5xmdta+6km6XgxW78ALx8PjxeEsHhEyOcSEQKk95QOdPOStDp4ZUeXJq2j92Dr3wg0ArshwGsSqkMAiOCaoi7kiGjMpSGW+jLz2rotvjAnZl5uzO8e74unJc0zfMmjSWvtk9HpGoFG4CUQiNeCuK4VTrMoQj0IRYjQKkWkM+UpLYFOR6sYhSh5bspDTv4HmLmt/IuVZyAsWDRpLT0Rfb8RaAReDgGeD9ISUtsyv7UWKCv+slTe6kHk5f92IZlRhBHnVv4hKvNZdOVNIT7lWJzBe3M8znMp0zX7o0mT1tF6rPVtBBqBqyOAqMwxIS4LJfY07soOuWgI8kA06kJeo/CkeGVCfVMSz1CoUXjQeTbEyNMyl1Xb4FzaI3pfTVpTT0FfawQagZdHgGHn/SCTvYw74rAwwgpFHhDisAkPhiBH4OmRMOJ4b24+S1plawPyqm2gA+LcusR+rP8e501a90C962wEGoFDICC8xlPZK0SIJITtEAbSyj6kZV+FF4ZsztWf+SxzWkKOoyAnoUNf/Mh9RKfMc57bWMajnTdpPVqPtD6NQCPwEAgw+AjGgoY9xLwUohqJSdkIhaclxBdBVDwlocMQTu5lb4m8lYFCmCMJqQ8pKledyrPJo8xrLTKJbtfaN2ldC9kutxFoBA6LAMPOO9nLsCMUBGSxxBQBhbSQZBZdCAsim3hmU2BmPgsJVUFOrglDWlWY978Qses8M3mPKE1aR+y11rkRaASuhgACQVhIY62Yq0IUowjvZU7Kwg7hRmSRRRHyIDNzVjwiaXhHSEYIT1rhSWQTQWrK5LW5Jx9ikzab8rTBXJa09CBZ1CG9VYdHlCatI/Za69wINAJXQQCJMPaIZK0gICQzlQdZuMe7QSjZh0TUV687RkbxjJwjHumSB2m5n/kw6bMpP3Ugurr4Iu2RlgeHwEKeuXeEfZPWEXqpdWwEGoGrI8CAm1Ni1LcI4y/ctrfnki9m8JrUscdKPySmjciQB7ZHmVuw2iNtk9YeKHYZT48Ag+YHntHu3g02klb+uY2xkablegggBwsa1opnAVHxhHzlfW+vBVEJ49l4cXv0v+dLeXmna8oTW9v+e6Vr0roX8l3voRBgNPzYjVD3FsbO6N78hDoYQZtj13JdSEfoR2joWuS5d9uOUh78vc+kf+GLjKY2z0FCcEguLyDXVX97tdmXMnhDwnzIZg/JfJh2HJGwYNCktceT0GU8PQJWYJnw9s7L3iNq5TGUjKH5FPVMTa7nX1gwlNK27IMAjyZ9a3Wfvj63WY3ng7qWmcuD6Cyu0H8tt0GgSes2OHctB0aAQcqXvxmqqSXLezUvxDT18VSj7YzsGc82lPugDlfezNaNJyaPfsgy9X006lLmEGjSmkOn7zUCb28flxUjLJvQ3TVEyG+OtISLhKHogESFp1oagVdDoEnr1Xq827sJAXF/Xo/5pXyHDmkgkL1lDWnlvRw6XWN+be82dXmNwN4INGntjWiX91QI5DM4QkjmO+JtXWNOqZJWPCn1mnMRkrRYwPX8u4k9VpM9VWe9ozE8XKG+LWIuUr8ID3pOWm6DQJPWbXDuWg6KgDkkG+HZfPrppyfiQhx7SyUtXp16s4LQe0AWgSBN3tY159X2btcRyoOzlXpbRH8ZSAjT6puW2yDQpHUbnLuWAyJgoh1J1BE4soq3tZY4eERG8kvhvEpa+QiqOhhTm2XKn3/++cnTYmSrXgeE96FUFgaG/xbhafGEed3XGMRs0eWV0jZpvVJvd1s3IZD5I6NphBPSCGkhjjUifCSPeag5qaQ1tXpQXkSV+um31dDO1f+K9wwK9K9BxaXiuWjSuhS97fmatLZj1jleAAEjb4ZIOJB3k616WshjzYIMnhaCY9zmZA1p0SukJXy417/NmNPrme9ZjZlBRdqJxGw8qGy5lut5V8++SSvI3WbfpHUbnLuWgyFgYt28krCchRDZhIPyojHyWDsBvyb8tIa08iKsuumh3JbLEIC3/tWHPsMU0cdLW9I2aQWJ2+2btG6H9eFq8qP2410rvI5nWdHGi/niiy8mmy5UmOXvVvNtwWiywHLRpD5CmlrSrp6ELKW5xqeDiiovcwhL3lZEyHBpS9omrSBxu/1DkZYHwEiyR4+3ewDO1YR8GNBziwcQmoUKQiMhKkbVqNXo9YiSMF5d2i4sWP8jbD6OytBlkwbJXfpVBM89rNWbzwMpO/8mHXna1OO6r2EIUwX3I2L9KDrX0GC8Zs/03DYugHHec1q369FF0soP6j0TlWNz/Lg9FMpMTJ6hE+7ww8zDM+a79BwJKlN8un/oyyjymBhFBroa7ORETuZobEb7+hGunhU/4PyvnqQ/yh4Rex4TCsxeuyK5n33S2Nd0Sb927xmtZc0dSzvVL2vr6nT/QyBeM/vAuyKe/6VNOs+LfPlepIGHgVzLdRFYJC0EY3RnBLhXGEQ5GVUyjiREZuKb0dtTEKRRK1IcvQD38rDuWeeRy4KH/mE4R2EwhagQGqIyUoVrPDL9qE8R2XuM+FhvnzcC10AA+Xt2R7uwti6/B/bM5rgHxWuRuzzdImkxPEjEtpcRyoMyjsgZSaGPvUnLA2UUNBVSYVx7dPS/B8iPjvc0tZxbv8EQSYXo9ZnQGHwjiMzos3ENIr1/ZAQMtPaybY/czmfRbZG0NFSn2vYUD8lYJgNoFc/epJU2cOerqO8a/3G01nG0YwQvPh/PqeoPLwsPav8gL14s8o8ogydWiSz3et8INAKNwHsQ+EhajBQjI0bLVY67zCg5NnoW5yWMUtIwZMSoWhlc5Ii8rmVU7jqykmbM79450lIfvWzmTKoLXsujo7KVY/5KPkTlPPUlrz1DaxUY78F96Wt5yVOvBw9ljiSYdl9zL5wZHEbSVy/9tMdWcY9O2gcbfW2vjZlX1B7l85xqP8qr79WLtCqhyS98XEkrdQgjjuVEj943Ao1AI3AJAifSYqQYGAaLsTOvxEARcxuW3wrbxXgzUEbXCeVZ2SSfsJKyHBuNS6cc+WPUkEWuWXTBcEamSItR5H3l5UzlqoOuhDFVX/Shi9AUb0GdSM6onw6uM+QMqXKyUktadUhPPzrRTZnxIlxn6KVFdLc2yHSmo/6gH/3pAp+Ia/R1H7EI47kWUQbsXHNfe/VhsNRG9+A0CmKT1z3PQQS+SGv0qlyX3kCipRFoBBqBvRD4wENidCJGycgnxo4hcy5NjJW5jYywGXfG0CjdfekYQkYxXgsDz4BKR6RlzKRFOJEp0opRjD6MJxIS1pOeqEd9yCTkpk56qzPGmK4x8nRgaOnAaGuTjaQt6pCneiyuqUuZ6p0SmDLujPaaDV5py1R5rklDV3XaYOA8ZAFH5+kLafQHYs4AxF57ItLCKwMH59oHu1FgoHzlaZP+tA+xw6QKDPIc1Ovjsf5FxGtwkiYDj7GcPt8XAc+PPvW8rO0bv7el53hfLbu0V0TgA4PNGGUEzxjb6sNnRC5NSAtQDJxrdcJePh4NgxZxDeGMxj9GcCQt6UJQypAf0agvIo90dRTP+CXUJ904DxeDHdKSJoa+lpM67NPu5KEzskg4raatx0gPAS4tm633GYlzkj6iT0T5jIq6iL7giVVxT78iDziGpJGSMl2Da7C1Z6C0sQrdMnigQ9oHlxBJfV7khal6Q4i1vHqsrIrD0rF2z2GlbGXQjQ69TWMw9lftkxxfo288Y903033Sz+qXp2mmyjN5Fuv+5GIxYoyezZyFcwYtEuNdC/PwST8SjJG3EF1EOVtIi+GtZSrHD8wojhEUEqMjY2k0H2GEhTXPGUkGG9GFgOQLadVyUp69hygkyhAqQz1+zLeUeLqjNxPjDWN9gaCq0FNf8o60WzoDivR1Qp9pzznSQhRwNSCpOihzfAZSP+z0Vx2U5N619+r2fKSdvf/fi9DBYvyNXbtPUr7nyHMXPXr///vm1TFh7+bkY1yQAZI4D5QwUWSOtOron1F8L2mFJNTNKMfLYHyRFwPKa2IQGaeIdIzze0gLKWtDFZgol5fl2H5JlAFP+q3ZkGaIY6ps9XqQtXFK1Oc+Q11FmfqR/sEKpurjISN53mn6EGkZcFTvWXnKHz1VJD7l8aZ+9RlgnOuPpFPnGoySBq7qnhNt1PbezmOQAc8cjvrGsxLsl/Z+n1OLg2od3Tfn+6Sf1/9gs/RsfmBUGMUqjBZjFpkiLQaeoYzBk5Zxey9pIaOMAv0IeA82xor4UcRYxvNRr/AVD+yckVzjaUnjh1lFedpkLkVb/ZCXhK7aIMy2ZoO3tp4TOsGafqMkn/v0rOJHYBDAQ6K3/NXzgRtsM0CRxuDAVkU5PCxeWuqzz+KVmjbHjJ2+rJ5Z7tW9tnn+1uAkDVyjQy2nj/dFgOHwm/Jsru0bA5sajdlXoy7tlRGozsKJtBi8KoxbnR9xjsSqwXY8khYvKAY+5TF4jD3jWY2NY/kryXjgGboQoTSMKsJIXmkYVeUxdn4ojC8jyaM4ZySl44nUxjPgdGA4/Ui1M+QY/Y3q1SfdeC9pbrGHCx2qaFOwikdaSXccWDD4NXSrbxikDFrgqDx4j6LtdAgGsEN2+nxKGDx9VPWZStfXGoFGoBGYQ4BNYvvYKvIhhhs5MF4x0FlsIIQkgw0pMJSMX67ZM04xmrnumrKN8nMN8Rm5jfmdM25JZ08f17IAgMHMqM+eLtJpEJ1qXmnlI8pQVr2fe4iQgXZPKAvhMeSjIDOEF+Ic79/qnI50TT/BuEr6Msv+paU74aHK55o2ewDgoow6GEFKBizjiDleGB08I/rsXJgOhgYjSG0sp+rbx41AI9AILCEQu8V2kQ+MkRE2YeAf1cjQi37RFYHwmpbin6eGzfyRn6FW1rl4PMOP0M7dnyl+91vaj3QzqBgr0B5tiUeU+67ra21AKrCsZJV0cOYtT3msvCrlTuVLfnv3DSziBdZ79zjmhee5Ub+2nyPc9+in3cqOqHfKE4Vtnlv7c3OVKWfrXpn6MVEFbXd8jTZv1a3TNwKXIvCRtC4t4JnzMTyIKgSO6WMAnrnd2sbAIRukc6nAj7dXDfilZe2RT/8h2xAFTzF9u1S+5wD5JO9ceuRTcVPPFAa89hC/AYTIQEQ9dFXn3Fbbk7zZIyfEyPMmBjjaIc+ziX7U1qNuBqB1QPWe/vFMeQaPioXozLnfpWc4kaWvT5K8B7EnypsYKoMj9OjHv9eDdQSY8oBcEg6FEwNpexQRyqxGfi1pIY2Ex6fCxmP7GKDE3d1DYFOkZUFLJa38GOWBnxHl2k0d47M5khZD8KykJQS9FqtHTGcAs9dgAlk9Yhu36FTXONTfl99hHIcmrYrMf48Za8bAfJx9DMxE0qe8ZLTPADOuo0FcarCRHsO9Nd9Sue+5nznTeEtrSasaRAYh+c/pMkVaiG+UkbTqoqekVRcPzA+eYRtD09VAaU+VVyItWI7YVCxe6Tge1rO1OfY47WrSChK9/xoCPAs/guo5fC3BxIkRI4K4xEObKG63S5eQloGKub2MEi1AWfK2QthR3IDnUtJC+ll4wxMbBwFVP6SWUai6X4m0LCoasQn+r7T3PIgIGTg9uzRpPXsPd/tORCpMF09pjaclRFxXviKvJTK+hLR4CXVOK921hrSiH1KrYciRtJ51TgtRm6/U3lcXWJjKqIOXZ8WkSetZe7bb9RGBSzwtRCKfBSVe1UBayC7E97HwcoC0eFeRtZ7WGtIykla3jceHpOhEt9EbfhXS4lnYOjz4n38NhbRewets0oqF6f3TIrCVtDJfxLNCDvFokMTcqH4kLSS3FB5c42l5JxEBIidb3i00Oa1to9F+FdKCRV1g87QP8IqGefYQ+CtIk9Yr9PKLt3EraSEF3k/IwJwRwrLNGYZrkRbS1AYhS5tjIUGkxXCPy4RfhbTqgpYXf8RP889zz+Yz4dOk9Uy92W2ZRGALaSEAJMEACLUIx1kunqXvFmecW5BxCWkpayk8iDRHD49ujDYitWDjFee0fNFlKRym/2Bn86K3vTzn+nDyAXrwi9rjeRUhmBNYwCBbsMjgbC7vI91r0nqk3mhdroLAFtLiyeRzYwnHCfOFtJDEucnukbT2nNMajTOjmzAmnepcGmPkXkbez7gQI8ugR1zGB0if6D+eqecgnwQ69z7QmP8I57Awn1UHLlN6C6V6TkQS7GFhwGRQtoTjVHn3utakdS/ku96bIbCFtBg372f5ITME2btWF2RMKc9AIroIwzC1BLmGtc55Wohnbsn7FtJ6xpeLkbK+mfpMVvC3z9dQEDvyJvpIfz6LICvPqsU6c+JZhJm2xytD3p7TYDOX/1HuNWk9Sk+0HldDYIm0EIDQiR8yYpr6QgHvyr++YfxsRqbJF8WnXi6eIi1hrRgYZSCnKq65X0nLuevZGBkeBF0s1GCMIqOn9YykpU9hq9/mBF7S1v9uAK94oXN5j3LPYGmpPcEpJJVogciCZ6c9raP0duv5EggskRbj58ecBRdGrUIu+aH7gSO0GiI0WmcopItcSlp1TouRVRcd8p8MzLE5p6PNcVYQmmOjS0iQLq9AWto/LkBJP4x73nOMOuOcQUcM95j+aOeel7RvSXfPDqLyjGTgg/Q8P64dQdrTOkIvtY7vQmCJtNzn/TCENuE7hgCBEESRf/eSNM6RnHuRS0mrelrCXcqu+qjTed1cE/picMZR8iuQFowqUacPpvZIKmkz+MjXW6bSH+maZzSDmSW9PSeeGRgQz45QIRJzLRgtlXPv+01a9+6Brv/qCCCl+j6PsNraUfoW5byTtWZOC/nEQFi5VUlrS33n0iI+Riij72cLDzK++nAk6yk8tL3OX5n/MYdjW5oPmyrv0a5pH+9p6n3AUVeelbQJf9sjLM/skbzOJq2xZ/v86RBY8rT2avClnlYND+6hy7N7WnBOiGsPvI5cBuIxJ1XD1Eduzxrdm7TWoNRpDo3ArTytRyGtZ/e0GGmeZMK3R3g4edS86zXe4Zb2eOZ4T0fyGs0VwyLRhi3tlbZJaytinf5wCBiV1/CgcMg1woNCTwgyYv5g6t0Z4aoYL4bXHNqewoCZr8h8W0JIRwoBzeEhNDjVFh4mXC/dsvBmru5L7tEn5JLFO3vVpZ+RVhVlI8lLcZDvWgMC5fotwsHgw+9jK+E2adXe7uOnREC8v47qphYv7NFw5FDnFhiqWm/qqF4CA+N8T2EYhIsYB8IIOZ7SZc96b1VWnRNMnQwfQ8iA22dxQt3nvjTZGE7H9sErZV6yh3E1+IhU+ebQEK0BlP+fNkW6W+vLs5PBSfLrb8+4Ns1hMYVHsEAm1/hSht+H/oO1594iGfstJN6klZ7ufSPQCDw8AkiApzoSMEOdz1rlM1yVsBwzyEgjG6+Y121OkfFkTN8jFjrwruv8Ej2V6zoxsBnfq7u0TmVrE4Kq4rq2aRMstBcxVDzOYZHXPqxO1Z4l0R8ICMll77hurusfQi8Lj+Jdqc9WiX6pziatJYT6fiPQCDwMAowhwxcjWBVzL/+4czTkNd14bPTPE2LkGeFLhFeCmLycXj3nhGqjD0LLe3eX1FPz8NZ4U1Nem2uIR5sQ1FqvST74whGeS4KEkWJwNwCApcGALS/AS6PPlIk8Q1IIy+sLOV+qz/0mrTUodZpGoBF4CAQYYEbvnBEW8srntqrHs6Q8cuERIYFLhDcRz4YOU0JnujPSU0QzlWfuGrKl7xSBy+e+F6uR5JYQnPIQF6zPlT3qhZS0vxK2NMgoxKXtNQwIM14XQq/Xx7LH8yatEZE+bwQagYdFwCiesZszcgwuA8pYJgy1pkHCYbyDrcKwC1kiI4Q5RXz05WUof40Hs0YHxh6xnBOEgSh8yYV+W0hcWuTLk1oj2gXzqfQhNGnSH0KYzum3VZq0tiLW6RuBRuBuCKz5EgYSkY4R3WoUp4zuXGOREe8CmdqrE2lWkYZnhQRCHNnXdFuP1XfOq0tZdX4rIbrcW9rD8ZxHW/MiIngLDapvlHha8cKUS28LlcjSIGQsr0lrRKTPG4FG4CER4DlMLcKYUpY3IyyGRPYIxU3V4RqSY7DthePUh8AiISxeBa+IXoz3lDeWPGv2yIHhDxHM5dF+uPG4pKfTnqJNCAtZx5NSPkzUl38L4x7CQp7SwkteuvWc1p490mU1Ao3AQyBgRG6xA8O3Rhh1JIJU1uZZU27SMLTIJ94OclAfIxzJknfL3M2ZWeHofryMpNu656mpGyZrRH2IBRZr86wpVxpkjBD1DZIStrTxsCzQgE88NnrAIFggNPm3EGl7Wmt7ptM1Ao3AXREQ6mPg1q7wQyq8HkRidL9lNL+moYjDCr0YXN6PuhjkCGPNm+BVZHP+XhJVBtKaCsel7rrn5cCOfry+rWHQWtZ4HIxD4EjKBnME5TgeGGIPDvZIbKsuTVpjD/R5I9AIPCQCRvKMdUhijZIMotE8Y/1e76bWF0KM18SzQKrqYaivLepDElsEwcGQjtX72VLGmBb58t6sApwi0Mxn0XdLv4311PMmrYpGHzcCjcDDIsCr2Toq15h4GEb2e4myMleDCGw8GITg3aO13uCl+gjDaddWQR7ChNX72VpGTW8ggLC0fcp7zErOcb6rlrH1uElrK2KdvhFoBHZHwDzLlNFLRUbpSGtqNJ80U3seEYPKSO8ldKALnR0jUnuhL1+7MH81fk1C2xDNmlWDKeucvsrSnq0rIzO/tiWseE6HXFcWokaGU+HXeFraXu9Lv9VrTp1NWkGi941AI3AXBBhp8yJzBt09aaTdIozqnvNZ5qiUaRvFPYTF8xgXO6SN4/WxjBDSnBcFC/Uz+msF6SMOWMzhvLa8pMt81kjSqQ+JTw02eKZI95KQYZNW0O99I9AI3AUBXoPR+pxBZ3AZ6jlvbFSeUWRUt+QZy8g5L4WejD5dhbtCoAwvLwvRfPbZZ6f7vLs6jyMNsqjeRsquexhYcaeecyKN+1tCpcKZ8sxhfK6+8TostA0eQo3w0DfwzqYu7UBOsBnJCRaX9kuT1tgjfd4INAI3Q4Dht5iB4WPwsjR6VABJnAtBjWmdSys0NXoAU2lzDaEgxylhYDN3RZdKGgwyr8f1ujHq7iEXcz9LnpE6lAsLdY2GPnopC0mcu5902YfktoTjEJP0IeaUZU9PbattpXc2193XB2N+eZUL57X617odN2mNiPR5I9AI3AwBxg258FAY6tHIRRHEtjasxShKb4S/RXhK8k0JQqNb3arRZeTrPccMdAx82jlVdq7R1yIO4UV6nPOkkAHSWiMwQyZbCF+5SAX5TOkwhcXY9opN1dPABOl68Rtml0iT1iWodZ5GoBF4NwIMOuPLoDPW3m+aMpIqmpoXmVKA4ZcWcW0RRpqHw6DuKdqobO0UMjwn0iEWBIPE4THVBu87JQR3rqxc52UqT/3nPNikrfusjJzzfGv6LcfwpY+5v7y7tSW/tE1aWxHr9I1AI7ALAowWkrLxLEzaT3lT7jPkRvNzwkgrB0E4ls/eVsvlBbjnGsPMsGcu6pyHMFfv0j31IyGkdE6QSnSiD0+EbqNIo31L5Aor5fCWhAcrFvQJYWivtLCIB0dXfbHH/Neov3ODCm24FOsmrSlU+1oj0AjcFIGsQqvkEgUYU8aXN3JOGGHExlvysivDWDfXhB+Vw+NxzzXps8m/tzDMCIYXiRyW3hXLvBqdplYQZn5qCqfoDid5lWGhBCKvWDiGd7BwHxb5VqN8sEB0ewsM1KNsHpf2bpUmra2IdfpGoBHYHQEGlLEUEhtH4EblvI54B1OVM37yIgUboshx9q7VLdeznyOCqTrXXKNzwp/Id433oh2w4CmNQlfX58J97gmTpl3jvmKQ4zENLC4hlFHf8VzbzNnBBB5jX4/pp86btKZQ6WuNQCNwU0sBsh8AAASaSURBVATiGTBm4wS9Uf8aY39ThVdWxigjAKSrDWuMtHRIi0c4khOSQeJHFV4gLBDW3CBkrn1NWnPo9L1GoBG4CQJCRd7rEbYSQqoinHWNUFWt49rHiHgNYdGDlySsp93V+0NgcELsRxZYvMeLa9I6cu+37o3AkyDAu7AAwPf8KkEhMJ7WSGRTzZZPmGstOYxlGP2vqWfMt/e5dmizFXZ0itCNR1qv5d64lxaml7ZHGK/2w1j+Pc+btO6JftfdCDQCJwSEiiwIEBar3gUSMt+1xvjyQMz3bB3FIwF5LRBg6O8tQmja4X9U1RWEPDDX7ZcEbsKIVgpuEe1HjL5ULxT5iNKk9Yi90jo1Ai+IwNQKQgZ0ap5rCh7Gfg25jXnlsWUhyHj/1uc8RURKnzp/xftBWuOc35R+BgHaNM6JTaWt12CIuKx2pMOlXmstc+/jJq29Ee3yGoFG4CIEsoKQsYy3hMgY0SXjaa4HwS2lm1PsUUiLjllBCJMIzwdpLQm8EP1WLyvlIi7hySatINL7RqARaAQmEEA6n3zyycm7YDiJkOGS8RVCEzKzlDqhMwZeeec2Hsw4Z4O0GPxHEHrQB2nDAhmHmOf0k0867UtoESZIbA4L+UL4lbTm6rrXvfa07oV819sINAJfQ8DIPt/dE9oS4jLiH8nla5n++5086X3FwZ4wvI7ntjF09kielnk9i1KE6ZCO9iAdhDQn0sKRhxbSSqhwDgtpIk1aQaL3jUAj0AjMIMDgWgCAuBhYo/+5j+imKKFEnoSvOiSsmHtb9o9EWoialwULJMTbFBoUNlwS6RNWXUo7db+SVryvqXT3utae1r2Q73obgUbgawggnKwgZLR5CrwLRnRJeCVWzMW7YLiFyM5tCGD04B4pPKjNdBcu1SaEvmYVJZJJGBDp89jkPYeD67CQJlJJK9cead+k9Ui90bo0Ai+OAA8BeSAURtrc1JL3xCvzwVteCIMtvXAX4zu3pVyGnYFXr/zVgN+rO5AP4o1OWTm4pA/c8o1F+Z1r5xwO7gULWMpnEIDM4FJDh0v13+J+k9YtUO46GoFGYBUCiIqhZjiF++o7W3MFIBteAwO8VcwTqY9Howw6PILUFYTIm25LguyS9hLyVSc8sphDnaNHuqTDte83aV0b4S6/EWgEViNgbsqCCqN8X8hYazDjXa2uqCS0IEN+m+M170GV7Fc75OXwIC3GgEdCn0sVph2XzEcFh5TBy7qknCUd33O/Ses96HXeRqAR2BUBXoLPF/kOoW/vCVe9qvAyEZZ5LXN9vKCW/ieQ/Qw0Ao3AAyHAs2KohQh5F5eE+x6oOe9SBWGbn4KFub5XJvAKZHtaFY0+bgQagbsj4N2szGsJU72qCFMKl4bAXxWHsd1NWiMifd4INAJ3RcD/kWKo1y7CuKuyV67cMn5YrFmEcWVVHqb4Jq2H6YpWpBFoBCAgLJh/yf7qiJjHMr+3dhHGK+DVpPUKvdxtbAQOhAAD/eqLMNJdVhBahMHjavkPAk1a/SQ0Ao3AQyGQl30f7aXWe4Bk8QVv65UXpIy4N2mNiPR5I9AINAKNwMMi8H8XAYXwK5xB/wAAAABJRU5ErkJggg==)"
      ]
    },
    {
      "cell_type": "code",
      "metadata": {
        "id": "KfaENdW838Qf"
      },
      "source": [
        "from sklearn.metrics.pairwise import linear_kernel\r\n",
        "\r\n",
        "# Compute the cosine similarity matrix\r\n",
        "cosine_sim = linear_kernel(tfidf_matrix, tfidf_matrix)\r\n"
      ],
      "execution_count": 24,
      "outputs": []
    },
    {
      "cell_type": "code",
      "metadata": {
        "id": "5kAFt0jh32GI"
      },
      "source": [
        "indices = pd.Series(df2.index, index=df2['title']).drop_duplicates()"
      ],
      "execution_count": 25,
      "outputs": []
    },
    {
      "cell_type": "code",
      "metadata": {
        "id": "VdqGh9Id4Gd4"
      },
      "source": [
        "def get_recommendations(title, cosine_sim=cosine_sim):\r\n",
        "    # Get the index of the movie that matches the title\r\n",
        "    idx = indices[title]\r\n",
        "\r\n",
        "    # Get the pairwsie similarity scores of all movies with that movie\r\n",
        "    sim_scores = list(enumerate(cosine_sim[idx]))\r\n",
        "\r\n",
        "    # Sort the movies based on the similarity scores\r\n",
        "    sim_scores = sorted(sim_scores, key=lambda x: x[1], reverse=True)\r\n",
        "\r\n",
        "    # Get the scores of the 10 most similar movies\r\n",
        "    sim_scores = sim_scores[1:11]\r\n",
        "\r\n",
        "    # Get the movie indices\r\n",
        "    movie_indices = [i[0] for i in sim_scores]\r\n",
        "\r\n",
        "    # Return the top 10 most similar movies\r\n",
        "    return df2['title'].iloc[movie_indices]"
      ],
      "execution_count": 26,
      "outputs": []
    },
    {
      "cell_type": "code",
      "metadata": {
        "colab": {
          "base_uri": "https://localhost:8080/"
        },
        "id": "YGhoBlvI4K5A",
        "outputId": "fe75d069-b203-4c63-ed85-57e6d3e39826"
      },
      "source": [
        "get_recommendations('The Dark Knight Rises')"
      ],
      "execution_count": 27,
      "outputs": [
        {
          "output_type": "execute_result",
          "data": {
            "text/plain": [
              "65                              The Dark Knight\n",
              "299                              Batman Forever\n",
              "428                              Batman Returns\n",
              "1359                                     Batman\n",
              "3854    Batman: The Dark Knight Returns, Part 2\n",
              "119                               Batman Begins\n",
              "2507                                  Slow Burn\n",
              "9            Batman v Superman: Dawn of Justice\n",
              "1181                                        JFK\n",
              "210                              Batman & Robin\n",
              "Name: title, dtype: object"
            ]
          },
          "metadata": {
            "tags": []
          },
          "execution_count": 27
        }
      ]
    },
    {
      "cell_type": "code",
      "metadata": {
        "id": "2YbjOli94SlA"
      },
      "source": [
        "from ast import literal_eval\r\n",
        "\r\n",
        "features = ['cast', 'crew', 'keywords', 'genres']\r\n",
        "for feature in features:\r\n",
        "    df2[feature] = df2[feature].apply(literal_eval)\r\n"
      ],
      "execution_count": 28,
      "outputs": []
    },
    {
      "cell_type": "code",
      "metadata": {
        "id": "E0xgHexV8iZZ"
      },
      "source": [
        "def get_director(x):\r\n",
        "    for i in x:\r\n",
        "        if i['job'] == 'Director':\r\n",
        "            return i['name']\r\n",
        "    return np.nan"
      ],
      "execution_count": 33,
      "outputs": []
    },
    {
      "cell_type": "code",
      "metadata": {
        "id": "G7Fe1AeL8nmI"
      },
      "source": [
        "def get_list(x):\r\n",
        "    if isinstance(x, list):\r\n",
        "        names = [i['name'] for i in x]\r\n",
        "        #Check if more than 3 elements exist. If yes, return only first three. If no, return entire list.\r\n",
        "        if len(names) > 3:\r\n",
        "            names = names[:3]\r\n",
        "        return names\r\n",
        "\r\n",
        "    #Return empty list in case of missing/malformed data\r\n",
        "    return []"
      ],
      "execution_count": 34,
      "outputs": []
    },
    {
      "cell_type": "code",
      "metadata": {
        "id": "A9NvZ3cZ8rxo"
      },
      "source": [
        "df2['director'] = df2['crew'].apply(get_director)\r\n",
        "\r\n",
        "features = ['cast', 'keywords', 'genres']\r\n",
        "for feature in features:\r\n",
        "    df2[feature] = df2[feature].apply(get_list)"
      ],
      "execution_count": 35,
      "outputs": []
    },
    {
      "cell_type": "code",
      "metadata": {
        "colab": {
          "base_uri": "https://localhost:8080/",
          "height": 138
        },
        "id": "bWDbdNREMgV8",
        "outputId": "699cf611-b5e7-45ff-c7cf-0a10f700666f"
      },
      "source": [
        "df2[['title', 'cast', 'director', 'keywords', 'genres']].head(3)"
      ],
      "execution_count": 36,
      "outputs": [
        {
          "output_type": "execute_result",
          "data": {
            "text/html": [
              "<div>\n",
              "<style scoped>\n",
              "    .dataframe tbody tr th:only-of-type {\n",
              "        vertical-align: middle;\n",
              "    }\n",
              "\n",
              "    .dataframe tbody tr th {\n",
              "        vertical-align: top;\n",
              "    }\n",
              "\n",
              "    .dataframe thead th {\n",
              "        text-align: right;\n",
              "    }\n",
              "</style>\n",
              "<table border=\"1\" class=\"dataframe\">\n",
              "  <thead>\n",
              "    <tr style=\"text-align: right;\">\n",
              "      <th></th>\n",
              "      <th>title</th>\n",
              "      <th>cast</th>\n",
              "      <th>director</th>\n",
              "      <th>keywords</th>\n",
              "      <th>genres</th>\n",
              "    </tr>\n",
              "  </thead>\n",
              "  <tbody>\n",
              "    <tr>\n",
              "      <th>0</th>\n",
              "      <td>Avatar</td>\n",
              "      <td>[Sam Worthington, Zoe Saldana, Sigourney Weaver]</td>\n",
              "      <td>James Cameron</td>\n",
              "      <td>[culture clash, future, space war]</td>\n",
              "      <td>[Action, Adventure, Fantasy]</td>\n",
              "    </tr>\n",
              "    <tr>\n",
              "      <th>1</th>\n",
              "      <td>Pirates of the Caribbean: At World's End</td>\n",
              "      <td>[Johnny Depp, Orlando Bloom, Keira Knightley]</td>\n",
              "      <td>Gore Verbinski</td>\n",
              "      <td>[ocean, drug abuse, exotic island]</td>\n",
              "      <td>[Adventure, Fantasy, Action]</td>\n",
              "    </tr>\n",
              "    <tr>\n",
              "      <th>2</th>\n",
              "      <td>Spectre</td>\n",
              "      <td>[Daniel Craig, Christoph Waltz, Léa Seydoux]</td>\n",
              "      <td>Sam Mendes</td>\n",
              "      <td>[spy, based on novel, secret agent]</td>\n",
              "      <td>[Action, Adventure, Crime]</td>\n",
              "    </tr>\n",
              "  </tbody>\n",
              "</table>\n",
              "</div>"
            ],
            "text/plain": [
              "                                      title  ...                        genres\n",
              "0                                    Avatar  ...  [Action, Adventure, Fantasy]\n",
              "1  Pirates of the Caribbean: At World's End  ...  [Adventure, Fantasy, Action]\n",
              "2                                   Spectre  ...    [Action, Adventure, Crime]\n",
              "\n",
              "[3 rows x 5 columns]"
            ]
          },
          "metadata": {
            "tags": []
          },
          "execution_count": 36
        }
      ]
    },
    {
      "cell_type": "code",
      "metadata": {
        "id": "np7ubhwjMkqb"
      },
      "source": [
        "def clean_data(x):\r\n",
        "    if isinstance(x, list):\r\n",
        "        return [str.lower(i.replace(\" \", \"\")) for i in x]\r\n",
        "    else:\r\n",
        "        #Check if director exists. If not, return empty string\r\n",
        "        if isinstance(x, str):\r\n",
        "            return str.lower(x.replace(\" \", \"\"))\r\n",
        "        else:\r\n",
        "            return ''"
      ],
      "execution_count": 37,
      "outputs": []
    },
    {
      "cell_type": "code",
      "metadata": {
        "id": "LlqF0vcrMoxD"
      },
      "source": [
        "features = ['cast', 'keywords', 'director', 'genres']\r\n",
        "\r\n",
        "for feature in features:\r\n",
        "    df2[feature] = df2[feature].apply(clean_data)"
      ],
      "execution_count": 39,
      "outputs": []
    },
    {
      "cell_type": "code",
      "metadata": {
        "id": "vp69AEs-Ms30"
      },
      "source": [
        "def create_soup(x):\r\n",
        "    return ' '.join(x['keywords']) + ' ' + ' '.join(x['cast']) + ' ' + x['director'] + ' ' + ' '.join(x['genres'])\r\n",
        "df2['soup'] = df2.apply(create_soup, axis=1)\r\n"
      ],
      "execution_count": 40,
      "outputs": []
    },
    {
      "cell_type": "code",
      "metadata": {
        "id": "yT9mDLY2Myyr"
      },
      "source": [
        "from sklearn.feature_extraction.text import CountVectorizer\r\n",
        "\r\n",
        "count = CountVectorizer(stop_words='english')\r\n",
        "count_matrix = count.fit_transform(df2['soup'])"
      ],
      "execution_count": 41,
      "outputs": []
    },
    {
      "cell_type": "code",
      "metadata": {
        "id": "lUUhhBzBM2AT"
      },
      "source": [
        "from sklearn.metrics.pairwise import cosine_similarity\r\n",
        "\r\n",
        "cosine_sim2 = cosine_similarity(count_matrix, count_matrix)"
      ],
      "execution_count": 42,
      "outputs": []
    },
    {
      "cell_type": "code",
      "metadata": {
        "id": "5U8NiS_kM5Dj"
      },
      "source": [
        "df2 = df2.reset_index()\r\n",
        "indices = pd.Series(df2.index, index=df2['title'])"
      ],
      "execution_count": 43,
      "outputs": []
    },
    {
      "cell_type": "code",
      "metadata": {
        "colab": {
          "base_uri": "https://localhost:8080/"
        },
        "id": "uq_SEZjNM8mj",
        "outputId": "7db16adb-afca-414c-d880-3afbeb17ae87"
      },
      "source": [
        "get_recommendations('The Dark Knight Rises', cosine_sim2)"
      ],
      "execution_count": 44,
      "outputs": [
        {
          "output_type": "execute_result",
          "data": {
            "text/plain": [
              "65               The Dark Knight\n",
              "119                Batman Begins\n",
              "4638    Amidst the Devil's Wings\n",
              "1196                The Prestige\n",
              "3073           Romeo Is Bleeding\n",
              "3326              Black November\n",
              "1503                      Takers\n",
              "1986                      Faster\n",
              "303                     Catwoman\n",
              "747               Gangster Squad\n",
              "Name: title, dtype: object"
            ]
          },
          "metadata": {
            "tags": []
          },
          "execution_count": 44
        }
      ]
    },
    {
      "cell_type": "code",
      "metadata": {
        "colab": {
          "base_uri": "https://localhost:8080/"
        },
        "id": "bpWC3OuuOVSm",
        "outputId": "11f94bee-ded1-40f2-f2f9-81c0dcb3339c"
      },
      "source": [
        "!pip install surprise\r\n"
      ],
      "execution_count": 48,
      "outputs": [
        {
          "output_type": "stream",
          "text": [
            "Collecting surprise\n",
            "  Downloading https://files.pythonhosted.org/packages/61/de/e5cba8682201fcf9c3719a6fdda95693468ed061945493dea2dd37c5618b/surprise-0.1-py2.py3-none-any.whl\n",
            "Collecting scikit-surprise\n",
            "\u001b[?25l  Downloading https://files.pythonhosted.org/packages/97/37/5d334adaf5ddd65da99fc65f6507e0e4599d092ba048f4302fe8775619e8/scikit-surprise-1.1.1.tar.gz (11.8MB)\n",
            "\u001b[K     |████████████████████████████████| 11.8MB 233kB/s \n",
            "\u001b[?25hRequirement already satisfied: joblib>=0.11 in /usr/local/lib/python3.6/dist-packages (from scikit-surprise->surprise) (1.0.0)\n",
            "Requirement already satisfied: numpy>=1.11.2 in /usr/local/lib/python3.6/dist-packages (from scikit-surprise->surprise) (1.19.5)\n",
            "Requirement already satisfied: scipy>=1.0.0 in /usr/local/lib/python3.6/dist-packages (from scikit-surprise->surprise) (1.4.1)\n",
            "Requirement already satisfied: six>=1.10.0 in /usr/local/lib/python3.6/dist-packages (from scikit-surprise->surprise) (1.15.0)\n",
            "Building wheels for collected packages: scikit-surprise\n",
            "  Building wheel for scikit-surprise (setup.py) ... \u001b[?25l\u001b[?25hdone\n",
            "  Created wheel for scikit-surprise: filename=scikit_surprise-1.1.1-cp36-cp36m-linux_x86_64.whl size=1618274 sha256=b74e1f4e5cea1528f46784dc740349e8a5869180a0d0ad367fe2b64222310b40\n",
            "  Stored in directory: /root/.cache/pip/wheels/78/9c/3d/41b419c9d2aff5b6e2b4c0fc8d25c538202834058f9ed110d0\n",
            "Successfully built scikit-surprise\n",
            "Installing collected packages: scikit-surprise, surprise\n",
            "Successfully installed scikit-surprise-1.1.1 surprise-0.1\n"
          ],
          "name": "stdout"
        }
      ]
    },
    {
      "cell_type": "code",
      "metadata": {
        "colab": {
          "base_uri": "https://localhost:8080/",
          "height": 198
        },
        "id": "jF3EjhJHOlAK",
        "outputId": "2720b220-5b27-4471-f482-83c5d2c8bfa0"
      },
      "source": [
        "from surprise import Reader, Dataset, SVD\r\n",
        "from surprise.model_selection import cross_validate\r\n",
        "reader = Reader()\r\n",
        "ratings = pd.read_csv('/content/ratings_small.csv')\r\n",
        "ratings.head()"
      ],
      "execution_count": 65,
      "outputs": [
        {
          "output_type": "execute_result",
          "data": {
            "text/html": [
              "<div>\n",
              "<style scoped>\n",
              "    .dataframe tbody tr th:only-of-type {\n",
              "        vertical-align: middle;\n",
              "    }\n",
              "\n",
              "    .dataframe tbody tr th {\n",
              "        vertical-align: top;\n",
              "    }\n",
              "\n",
              "    .dataframe thead th {\n",
              "        text-align: right;\n",
              "    }\n",
              "</style>\n",
              "<table border=\"1\" class=\"dataframe\">\n",
              "  <thead>\n",
              "    <tr style=\"text-align: right;\">\n",
              "      <th></th>\n",
              "      <th>userId</th>\n",
              "      <th>movieId</th>\n",
              "      <th>rating</th>\n",
              "      <th>timestamp</th>\n",
              "    </tr>\n",
              "  </thead>\n",
              "  <tbody>\n",
              "    <tr>\n",
              "      <th>0</th>\n",
              "      <td>1</td>\n",
              "      <td>31</td>\n",
              "      <td>2.5</td>\n",
              "      <td>1260759144</td>\n",
              "    </tr>\n",
              "    <tr>\n",
              "      <th>1</th>\n",
              "      <td>1</td>\n",
              "      <td>1029</td>\n",
              "      <td>3.0</td>\n",
              "      <td>1260759179</td>\n",
              "    </tr>\n",
              "    <tr>\n",
              "      <th>2</th>\n",
              "      <td>1</td>\n",
              "      <td>1061</td>\n",
              "      <td>3.0</td>\n",
              "      <td>1260759182</td>\n",
              "    </tr>\n",
              "    <tr>\n",
              "      <th>3</th>\n",
              "      <td>1</td>\n",
              "      <td>1129</td>\n",
              "      <td>2.0</td>\n",
              "      <td>1260759185</td>\n",
              "    </tr>\n",
              "    <tr>\n",
              "      <th>4</th>\n",
              "      <td>1</td>\n",
              "      <td>1172</td>\n",
              "      <td>4.0</td>\n",
              "      <td>1260759205</td>\n",
              "    </tr>\n",
              "  </tbody>\n",
              "</table>\n",
              "</div>"
            ],
            "text/plain": [
              "   userId  movieId  rating   timestamp\n",
              "0       1       31     2.5  1260759144\n",
              "1       1     1029     3.0  1260759179\n",
              "2       1     1061     3.0  1260759182\n",
              "3       1     1129     2.0  1260759185\n",
              "4       1     1172     4.0  1260759205"
            ]
          },
          "metadata": {
            "tags": []
          },
          "execution_count": 65
        }
      ]
    },
    {
      "cell_type": "code",
      "metadata": {
        "colab": {
          "base_uri": "https://localhost:8080/"
        },
        "id": "I7kpc1zqQXBz",
        "outputId": "03705a43-ec59-440d-ec1c-cfa0605b9cd1"
      },
      "source": [
        "data = Dataset.load_from_df(ratings[['userId', 'movieId', 'rating']], reader)\r\n",
        "svd = SVD()\r\n",
        "cross_validate(svd, data, measures=['RMSE', 'MAE'], cv=5)"
      ],
      "execution_count": 68,
      "outputs": [
        {
          "output_type": "execute_result",
          "data": {
            "text/plain": [
              "{'fit_time': (4.013844966888428,\n",
              "  4.020984411239624,\n",
              "  4.040773153305054,\n",
              "  3.980609178543091,\n",
              "  4.043194055557251),\n",
              " 'test_mae': array([0.6968319 , 0.69016011, 0.69068258, 0.68956485, 0.68938594]),\n",
              " 'test_rmse': array([0.90332626, 0.89447642, 0.89559001, 0.89614655, 0.89613989]),\n",
              " 'test_time': (0.2085862159729004,\n",
              "  0.12029099464416504,\n",
              "  0.2039353847503662,\n",
              "  0.11906647682189941,\n",
              "  0.1994326114654541)}"
            ]
          },
          "metadata": {
            "tags": []
          },
          "execution_count": 68
        }
      ]
    },
    {
      "cell_type": "code",
      "metadata": {
        "colab": {
          "base_uri": "https://localhost:8080/"
        },
        "id": "8TBXVUwTQh-j",
        "outputId": "583776b8-2338-45bf-f03c-23f663b9e8ce"
      },
      "source": [
        "trainset = data.build_full_trainset()\r\n",
        "svd.fit(trainset)\r\n"
      ],
      "execution_count": 69,
      "outputs": [
        {
          "output_type": "execute_result",
          "data": {
            "text/plain": [
              "<surprise.prediction_algorithms.matrix_factorization.SVD at 0x7f88ee8c07f0>"
            ]
          },
          "metadata": {
            "tags": []
          },
          "execution_count": 69
        }
      ]
    },
    {
      "cell_type": "code",
      "metadata": {
        "colab": {
          "base_uri": "https://localhost:8080/",
          "height": 648
        },
        "id": "ivkhXwgGUt-k",
        "outputId": "1ba9b60c-0568-452c-c63b-35b94526611b"
      },
      "source": [
        "ratings[ratings['userId'] == 1]"
      ],
      "execution_count": 70,
      "outputs": [
        {
          "output_type": "execute_result",
          "data": {
            "text/html": [
              "<div>\n",
              "<style scoped>\n",
              "    .dataframe tbody tr th:only-of-type {\n",
              "        vertical-align: middle;\n",
              "    }\n",
              "\n",
              "    .dataframe tbody tr th {\n",
              "        vertical-align: top;\n",
              "    }\n",
              "\n",
              "    .dataframe thead th {\n",
              "        text-align: right;\n",
              "    }\n",
              "</style>\n",
              "<table border=\"1\" class=\"dataframe\">\n",
              "  <thead>\n",
              "    <tr style=\"text-align: right;\">\n",
              "      <th></th>\n",
              "      <th>userId</th>\n",
              "      <th>movieId</th>\n",
              "      <th>rating</th>\n",
              "      <th>timestamp</th>\n",
              "    </tr>\n",
              "  </thead>\n",
              "  <tbody>\n",
              "    <tr>\n",
              "      <th>0</th>\n",
              "      <td>1</td>\n",
              "      <td>31</td>\n",
              "      <td>2.5</td>\n",
              "      <td>1260759144</td>\n",
              "    </tr>\n",
              "    <tr>\n",
              "      <th>1</th>\n",
              "      <td>1</td>\n",
              "      <td>1029</td>\n",
              "      <td>3.0</td>\n",
              "      <td>1260759179</td>\n",
              "    </tr>\n",
              "    <tr>\n",
              "      <th>2</th>\n",
              "      <td>1</td>\n",
              "      <td>1061</td>\n",
              "      <td>3.0</td>\n",
              "      <td>1260759182</td>\n",
              "    </tr>\n",
              "    <tr>\n",
              "      <th>3</th>\n",
              "      <td>1</td>\n",
              "      <td>1129</td>\n",
              "      <td>2.0</td>\n",
              "      <td>1260759185</td>\n",
              "    </tr>\n",
              "    <tr>\n",
              "      <th>4</th>\n",
              "      <td>1</td>\n",
              "      <td>1172</td>\n",
              "      <td>4.0</td>\n",
              "      <td>1260759205</td>\n",
              "    </tr>\n",
              "    <tr>\n",
              "      <th>5</th>\n",
              "      <td>1</td>\n",
              "      <td>1263</td>\n",
              "      <td>2.0</td>\n",
              "      <td>1260759151</td>\n",
              "    </tr>\n",
              "    <tr>\n",
              "      <th>6</th>\n",
              "      <td>1</td>\n",
              "      <td>1287</td>\n",
              "      <td>2.0</td>\n",
              "      <td>1260759187</td>\n",
              "    </tr>\n",
              "    <tr>\n",
              "      <th>7</th>\n",
              "      <td>1</td>\n",
              "      <td>1293</td>\n",
              "      <td>2.0</td>\n",
              "      <td>1260759148</td>\n",
              "    </tr>\n",
              "    <tr>\n",
              "      <th>8</th>\n",
              "      <td>1</td>\n",
              "      <td>1339</td>\n",
              "      <td>3.5</td>\n",
              "      <td>1260759125</td>\n",
              "    </tr>\n",
              "    <tr>\n",
              "      <th>9</th>\n",
              "      <td>1</td>\n",
              "      <td>1343</td>\n",
              "      <td>2.0</td>\n",
              "      <td>1260759131</td>\n",
              "    </tr>\n",
              "    <tr>\n",
              "      <th>10</th>\n",
              "      <td>1</td>\n",
              "      <td>1371</td>\n",
              "      <td>2.5</td>\n",
              "      <td>1260759135</td>\n",
              "    </tr>\n",
              "    <tr>\n",
              "      <th>11</th>\n",
              "      <td>1</td>\n",
              "      <td>1405</td>\n",
              "      <td>1.0</td>\n",
              "      <td>1260759203</td>\n",
              "    </tr>\n",
              "    <tr>\n",
              "      <th>12</th>\n",
              "      <td>1</td>\n",
              "      <td>1953</td>\n",
              "      <td>4.0</td>\n",
              "      <td>1260759191</td>\n",
              "    </tr>\n",
              "    <tr>\n",
              "      <th>13</th>\n",
              "      <td>1</td>\n",
              "      <td>2105</td>\n",
              "      <td>4.0</td>\n",
              "      <td>1260759139</td>\n",
              "    </tr>\n",
              "    <tr>\n",
              "      <th>14</th>\n",
              "      <td>1</td>\n",
              "      <td>2150</td>\n",
              "      <td>3.0</td>\n",
              "      <td>1260759194</td>\n",
              "    </tr>\n",
              "    <tr>\n",
              "      <th>15</th>\n",
              "      <td>1</td>\n",
              "      <td>2193</td>\n",
              "      <td>2.0</td>\n",
              "      <td>1260759198</td>\n",
              "    </tr>\n",
              "    <tr>\n",
              "      <th>16</th>\n",
              "      <td>1</td>\n",
              "      <td>2294</td>\n",
              "      <td>2.0</td>\n",
              "      <td>1260759108</td>\n",
              "    </tr>\n",
              "    <tr>\n",
              "      <th>17</th>\n",
              "      <td>1</td>\n",
              "      <td>2455</td>\n",
              "      <td>2.5</td>\n",
              "      <td>1260759113</td>\n",
              "    </tr>\n",
              "    <tr>\n",
              "      <th>18</th>\n",
              "      <td>1</td>\n",
              "      <td>2968</td>\n",
              "      <td>1.0</td>\n",
              "      <td>1260759200</td>\n",
              "    </tr>\n",
              "    <tr>\n",
              "      <th>19</th>\n",
              "      <td>1</td>\n",
              "      <td>3671</td>\n",
              "      <td>3.0</td>\n",
              "      <td>1260759117</td>\n",
              "    </tr>\n",
              "  </tbody>\n",
              "</table>\n",
              "</div>"
            ],
            "text/plain": [
              "    userId  movieId  rating   timestamp\n",
              "0        1       31     2.5  1260759144\n",
              "1        1     1029     3.0  1260759179\n",
              "2        1     1061     3.0  1260759182\n",
              "3        1     1129     2.0  1260759185\n",
              "4        1     1172     4.0  1260759205\n",
              "5        1     1263     2.0  1260759151\n",
              "6        1     1287     2.0  1260759187\n",
              "7        1     1293     2.0  1260759148\n",
              "8        1     1339     3.5  1260759125\n",
              "9        1     1343     2.0  1260759131\n",
              "10       1     1371     2.5  1260759135\n",
              "11       1     1405     1.0  1260759203\n",
              "12       1     1953     4.0  1260759191\n",
              "13       1     2105     4.0  1260759139\n",
              "14       1     2150     3.0  1260759194\n",
              "15       1     2193     2.0  1260759198\n",
              "16       1     2294     2.0  1260759108\n",
              "17       1     2455     2.5  1260759113\n",
              "18       1     2968     1.0  1260759200\n",
              "19       1     3671     3.0  1260759117"
            ]
          },
          "metadata": {
            "tags": []
          },
          "execution_count": 70
        }
      ]
    },
    {
      "cell_type": "code",
      "metadata": {
        "colab": {
          "base_uri": "https://localhost:8080/"
        },
        "id": "MCd68S4IU5b9",
        "outputId": "2c4292d9-6ce3-48e0-ccd6-4687d4978bed"
      },
      "source": [
        "svd.predict(1, 302, 3)"
      ],
      "execution_count": 71,
      "outputs": [
        {
          "output_type": "execute_result",
          "data": {
            "text/plain": [
              "Prediction(uid=1, iid=302, r_ui=3, est=2.6415479656479075, details={'was_impossible': False})"
            ]
          },
          "metadata": {
            "tags": []
          },
          "execution_count": 71
        }
      ]
    }
  ]
}